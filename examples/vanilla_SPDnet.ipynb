{
 "cells": [
  {
   "cell_type": "code",
   "execution_count": 1,
   "id": "146413d5",
   "metadata": {},
   "outputs": [],
   "source": [
    "import torch\n",
    "import numpy as np\n",
    "import pandas as pd\n",
    "from torch import nn\n",
    "from torch.utils.data import Dataset, DataLoader\n",
    "from tqdm import tqdm\n",
    "\n",
    "from dataset import *\n",
    "from spdnet.spd import SPDTransform, SPDTangentSpace, SPDRectified\n",
    "from spdnet.optimizer import StiefelMetaOptimizer\n",
    "\n",
    "use_cuda = False"
   ]
  },
  {
   "cell_type": "code",
   "execution_count": 2,
   "id": "598c16cd",
   "metadata": {},
   "outputs": [
    {
     "name": "stdout",
     "output_type": "stream",
     "text": [
      "/Users/JJ/Desktop/fMRISPDCluster\n"
     ]
    }
   ],
   "source": [
    "%cd .."
   ]
  },
  {
   "cell_type": "code",
   "execution_count": 3,
   "id": "27204fe8",
   "metadata": {},
   "outputs": [],
   "source": [
    "class Net(nn.Module):\n",
    "    def __init__(self):\n",
    "        super(Net, self).__init__()\n",
    "        self.trans1 = SPDTransform(57, 20)\n",
    "        self.trans2 = SPDTransform(20, 10)\n",
    "        self.trans3 = SPDTransform(10, 2)\n",
    "        self.rect1  = SPDRectified()\n",
    "        self.rect2  = SPDRectified()\n",
    "        self.rect3  = SPDRectified()\n",
    "        self.tangent = SPDTangentSpace(2)\n",
    "        self.linear = nn.Linear(3, 17, bias=True)\n",
    "        # self.dropout = nn.Dropout(p=0.5)\n",
    "\n",
    "    def forward(self, x):\n",
    "        x = self.trans1(x)\n",
    "        x = self.rect1(x)\n",
    "        x = self.trans2(x)\n",
    "        x = self.rect2(x)\n",
    "        x = self.trans3(x)\n",
    "        x = self.rect3(x)\n",
    "        x = self.tangent(x)\n",
    "        # x = self.dropout(x)\n",
    "        x = self.linear(x)\n",
    "        return x"
   ]
  },
  {
   "cell_type": "code",
   "execution_count": 4,
   "id": "2488cf6d",
   "metadata": {},
   "outputs": [],
   "source": [
    "def sliding_window(x, ws=30):\n",
    "    d, n = x.shape\n",
    "    return np.stack([(1/n)*np.matmul(x[:, i:ws+i], x[:, i:ws+i].T) for i in range(n-ws)])"
   ]
  },
  {
   "cell_type": "code",
   "execution_count": 5,
   "id": "60a2f7da",
   "metadata": {},
   "outputs": [],
   "source": [
    "def get_sliding_labels(x, ws=30):\n",
    "    n = x.shape[0]\n",
    "    return np.stack([x[int(ws/2)+i] for i in range(n-ws)])"
   ]
  },
  {
   "cell_type": "code",
   "execution_count": 6,
   "id": "d4821a3b",
   "metadata": {},
   "outputs": [],
   "source": [
    "class SPDataset(Dataset):\n",
    "    def __init__(self, shuffle=False, scan_id=1, ws=30):\n",
    "        super(SPDataset, self).__init__()\n",
    "        self.scan_id = scan_id\n",
    "        self.ws = ws\n",
    "        lbls = np.loadtxt('./fMRIdata/timingLabels_WM_scan1.csv', dtype=np.int32)\n",
    "        data = []\n",
    "        labels = []\n",
    "        for i in range(1,31):\n",
    "            tmp_data = pd.read_csv(f'./fMRIdata/subject_1{i:02d}_scan{scan_id}.csv')\n",
    "            tmp_data = sliding_window(tmp_data.values, ws)\n",
    "            tmp_lbls = get_sliding_labels(lbls, ws)\n",
    "            data.append(tmp_data)\n",
    "            labels.append(tmp_lbls)\n",
    "        self.data = np.concatenate(data, axis=0)\n",
    "        self.labels = np.concatenate(labels, axis=0)[..., None] - 1.\n",
    "\n",
    "        if shuffle:\n",
    "            random.shuffle(self.data)\n",
    "\n",
    "        self.nSamples = len(self.data) \n",
    "        print(self.nSamples)\n",
    "        self.nClasses = 17\n",
    "        \n",
    "    def __len__(self):\n",
    "        return self.nSamples\n",
    "\n",
    "    def __getitem__(self, idx):\n",
    "        return {'data': torch.from_numpy(self.data[idx].astype(np.float32)), \n",
    "                'label': torch.from_numpy(self.labels[idx].astype(np.compat.long))}"
   ]
  },
  {
   "cell_type": "code",
   "execution_count": 7,
   "id": "5ecf2c3e",
   "metadata": {},
   "outputs": [
    {
     "name": "stdout",
     "output_type": "stream",
     "text": [
      "10890\n",
      "10890\n"
     ]
    }
   ],
   "source": [
    "transformed_dataset = SPDataset(scan_id=1)\n",
    "dataloader = DataLoader(transformed_dataset, batch_size=7, shuffle=True, num_workers=4)\n",
    "\n",
    "transformed_dataset_val = SPDataset(scan_id=2)\n",
    "dataloader_val = DataLoader(transformed_dataset_val, batch_size=7, shuffle=False, num_workers=4)\n",
    "\n",
    "model = Net()\n",
    "if use_cuda:\n",
    "    model = model.cuda()\n",
    "criterion = nn.CrossEntropyLoss()\n",
    "optimizer = torch.optim.SGD(model.parameters(), lr=0.01)\n",
    "optimizer = StiefelMetaOptimizer(optimizer)"
   ]
  },
  {
   "cell_type": "code",
   "execution_count": 8,
   "id": "9884f58c",
   "metadata": {},
   "outputs": [],
   "source": [
    "def train(epoch):\n",
    "    print('\\nEpoch: %d' % epoch)\n",
    "    model.train()\n",
    "    train_loss = 0\n",
    "    correct = 0.0\n",
    "    total = 0.0\n",
    "    bar = tqdm(enumerate(dataloader))\n",
    "    for batch_idx, sample_batched in bar:\n",
    "        inputs = sample_batched['data']\n",
    "        targets = sample_batched['label'].squeeze()\n",
    "\n",
    "        if use_cuda:\n",
    "            inputs = inputs.cuda()\n",
    "            targets = targets.cuda()\n",
    "\n",
    "        optimizer.zero_grad()\n",
    "        outputs = model(inputs)\n",
    "        loss = criterion(outputs, targets)\n",
    "        loss.backward()\n",
    "        optimizer.step()\n",
    "\n",
    "        train_loss += loss.data.item()\n",
    "        _, predicted = torch.max(outputs.data, 1)\n",
    "        total += targets.size(0)\n",
    "        correct += predicted.eq(targets.data).cpu().sum().data.item()\n",
    "\n",
    "        bar.set_description('Loss: %.3f | Acc: %.3f%% (%d/%d)'\n",
    "            % (train_loss/(batch_idx+1.0), 100.*correct/total, correct, total))\n",
    "\n",
    "    return (train_loss/(batch_idx+1), 100.*correct/total)"
   ]
  },
  {
   "cell_type": "code",
   "execution_count": 9,
   "id": "a5290d90",
   "metadata": {},
   "outputs": [],
   "source": [
    "best_acc = 0\n",
    "def test(epoch):\n",
    "    global best_acc\n",
    "    model.eval()\n",
    "    test_loss = 0\n",
    "    correct = 0.0\n",
    "    total = 0.0\n",
    "    bar = tqdm(enumerate(dataloader_val))\n",
    "    for batch_idx, sample_batched in bar:\n",
    "        inputs = sample_batched['data']\n",
    "        targets = sample_batched['label'].squeeze()\n",
    "\n",
    "        if use_cuda:\n",
    "            inputs = inputs.cuda()\n",
    "            targets = targets.cuda()\n",
    "\n",
    "        outputs = model(inputs)\n",
    "        loss = criterion(outputs, targets)\n",
    "\n",
    "        test_loss += loss.data.item()\n",
    "        _, predicted = torch.max(outputs.data, 1)\n",
    "        total += targets.size(0)\n",
    "        correct += predicted.eq(targets.data).cpu().sum().data.item()\n",
    "\n",
    "        bar.set_description('Loss: %.3f | Acc: %.3f%% (%d/%d)'\n",
    "            % (test_loss/(batch_idx+1), 100.*correct/total, correct, total))\n",
    "\n",
    "    # Save checkpoint.\n",
    "    acc = 100.*correct/total\n",
    "    if acc > best_acc:\n",
    "        print('Saving..')\n",
    "        state = {\n",
    "            'net': model,\n",
    "            'acc': acc,\n",
    "            'epoch': epoch,\n",
    "        }\n",
    "        if not os.path.isdir('checkpoint'):\n",
    "            os.mkdir('checkpoint')\n",
    "        torch.save(state, './checkpoint/spd_ckpt.t7')\n",
    "        best_acc = acc\n",
    "\n",
    "    return (test_loss/(batch_idx+1), 100.*correct/total)"
   ]
  },
  {
   "cell_type": "code",
   "execution_count": 10,
   "id": "ba101cfc",
   "metadata": {},
   "outputs": [
    {
     "name": "stdout",
     "output_type": "stream",
     "text": [
      "\n",
      "Epoch: 11\n"
     ]
    },
    {
     "name": "stderr",
     "output_type": "stream",
     "text": [
      "Loss: 2.406 | Acc: 21.047% (2292/10890): : 1556it [00:32, 47.24it/s]\n",
      "Loss: 2.419 | Acc: 18.448% (2009/10890): : 1556it [00:12, 121.35it/s]\n"
     ]
    },
    {
     "name": "stdout",
     "output_type": "stream",
     "text": [
      "Saving..\n",
      "\n",
      "Epoch: 12\n"
     ]
    },
    {
     "name": "stderr",
     "output_type": "stream",
     "text": [
      "Loss: 2.197 | Acc: 26.015% (2833/10890): : 1556it [00:29, 52.06it/s]\n",
      "Loss: 2.460 | Acc: 19.192% (2090/10890): : 1556it [00:12, 121.50it/s]\n"
     ]
    },
    {
     "name": "stdout",
     "output_type": "stream",
     "text": [
      "Saving..\n",
      "\n",
      "Epoch: 13\n"
     ]
    },
    {
     "name": "stderr",
     "output_type": "stream",
     "text": [
      "Loss: 2.117 | Acc: 29.339% (3195/10890): : 1556it [00:23, 65.44it/s]\n",
      "Loss: 2.560 | Acc: 17.264% (1880/10890): : 1556it [00:10, 142.97it/s]"
     ]
    },
    {
     "name": "stdout",
     "output_type": "stream",
     "text": [
      "\n",
      "Epoch: 14\n"
     ]
    },
    {
     "name": "stderr",
     "output_type": "stream",
     "text": [
      "\n",
      "Loss: 2.085 | Acc: 29.780% (3243/10890): : 1556it [00:23, 65.02it/s]\n",
      "Loss: 2.582 | Acc: 16.134% (1757/10890): : 1556it [00:10, 147.61it/s]\n"
     ]
    },
    {
     "name": "stdout",
     "output_type": "stream",
     "text": [
      "\n",
      "Epoch: 15\n"
     ]
    },
    {
     "name": "stderr",
     "output_type": "stream",
     "text": [
      "Loss: 2.069 | Acc: 29.917% (3258/10890): : 1556it [00:23, 65.08it/s]\n",
      "Loss: 2.613 | Acc: 16.382% (1784/10890): : 1556it [00:10, 151.53it/s]\n"
     ]
    },
    {
     "name": "stdout",
     "output_type": "stream",
     "text": [
      "\n",
      "Epoch: 16\n"
     ]
    },
    {
     "name": "stderr",
     "output_type": "stream",
     "text": [
      "Loss: 2.058 | Acc: 29.752% (3240/10890): : 1556it [00:23, 65.25it/s]\n",
      "Loss: 2.623 | Acc: 17.181% (1871/10890): : 1556it [00:10, 153.68it/s]"
     ]
    },
    {
     "name": "stdout",
     "output_type": "stream",
     "text": [
      "\n",
      "Epoch: 17\n"
     ]
    },
    {
     "name": "stderr",
     "output_type": "stream",
     "text": [
      "\n",
      "Loss: 2.055 | Acc: 30.156% (3284/10890): : 1556it [00:28, 55.56it/s]\n",
      "Loss: 2.685 | Acc: 16.281% (1773/10890): : 1556it [00:11, 139.37it/s]\n"
     ]
    },
    {
     "name": "stdout",
     "output_type": "stream",
     "text": [
      "\n",
      "Epoch: 18\n"
     ]
    },
    {
     "name": "stderr",
     "output_type": "stream",
     "text": [
      "Loss: 2.049 | Acc: 30.294% (3299/10890): : 1556it [00:22, 68.50it/s]\n",
      "Loss: 2.646 | Acc: 17.695% (1927/10890): : 1556it [00:09, 159.54it/s]\n"
     ]
    },
    {
     "name": "stdout",
     "output_type": "stream",
     "text": [
      "\n",
      "Epoch: 19\n"
     ]
    },
    {
     "name": "stderr",
     "output_type": "stream",
     "text": [
      "Loss: 2.042 | Acc: 30.762% (3350/10890): : 1556it [00:22, 68.52it/s]\n",
      "Loss: 2.724 | Acc: 15.730% (1713/10890): : 1556it [00:09, 159.54it/s]\n"
     ]
    },
    {
     "name": "stdout",
     "output_type": "stream",
     "text": [
      "\n",
      "Epoch: 20\n"
     ]
    },
    {
     "name": "stderr",
     "output_type": "stream",
     "text": [
      "Loss: 2.042 | Acc: 30.147% (3283/10890): : 1556it [00:22, 68.65it/s]\n",
      "Loss: 2.709 | Acc: 16.189% (1763/10890): : 1556it [00:09, 160.88it/s]"
     ]
    },
    {
     "name": "stdout",
     "output_type": "stream",
     "text": [
      "\n",
      "Epoch: 21\n"
     ]
    },
    {
     "name": "stderr",
     "output_type": "stream",
     "text": [
      "\n",
      "Loss: 2.039 | Acc: 30.771% (3351/10890): : 1556it [00:22, 68.89it/s]\n",
      "Loss: 2.724 | Acc: 16.400% (1786/10890): : 1556it [00:09, 158.60it/s]"
     ]
    },
    {
     "name": "stdout",
     "output_type": "stream",
     "text": [
      "\n",
      "Epoch: 22\n"
     ]
    },
    {
     "name": "stderr",
     "output_type": "stream",
     "text": [
      "\n",
      "Loss: 2.034 | Acc: 30.239% (3293/10890): : 1556it [00:22, 68.69it/s]\n",
      "Loss: 2.707 | Acc: 16.189% (1763/10890): : 1556it [00:10, 154.81it/s]\n"
     ]
    },
    {
     "name": "stdout",
     "output_type": "stream",
     "text": [
      "\n",
      "Epoch: 23\n"
     ]
    },
    {
     "name": "stderr",
     "output_type": "stream",
     "text": [
      "Loss: 2.031 | Acc: 30.413% (3312/10890): : 1556it [00:22, 68.67it/s]\n",
      "Loss: 2.702 | Acc: 16.850% (1835/10890): : 1556it [00:11, 139.77it/s]"
     ]
    },
    {
     "name": "stdout",
     "output_type": "stream",
     "text": [
      "\n",
      "Epoch: 24\n"
     ]
    },
    {
     "name": "stderr",
     "output_type": "stream",
     "text": [
      "\n",
      "Loss: 2.026 | Acc: 30.560% (3328/10890): : 1556it [00:25, 61.31it/s]\n",
      "Loss: 2.726 | Acc: 15.923% (1734/10890): : 1556it [00:10, 152.70it/s]\n"
     ]
    },
    {
     "name": "stdout",
     "output_type": "stream",
     "text": [
      "\n",
      "Epoch: 25\n"
     ]
    },
    {
     "name": "stderr",
     "output_type": "stream",
     "text": [
      "Loss: 2.024 | Acc: 30.092% (3277/10890): : 1556it [00:24, 64.04it/s]\n",
      "Loss: 2.800 | Acc: 15.317% (1668/10890): : 1556it [00:09, 159.56it/s]\n"
     ]
    },
    {
     "name": "stdout",
     "output_type": "stream",
     "text": [
      "\n",
      "Epoch: 26\n"
     ]
    },
    {
     "name": "stderr",
     "output_type": "stream",
     "text": [
      "Loss: 2.022 | Acc: 30.909% (3366/10890): : 1556it [00:25, 60.24it/s]\n",
      "Loss: 2.788 | Acc: 13.535% (1474/10890): : 1556it [00:09, 165.34it/s]\n"
     ]
    },
    {
     "name": "stdout",
     "output_type": "stream",
     "text": [
      "\n",
      "Epoch: 27\n"
     ]
    },
    {
     "name": "stderr",
     "output_type": "stream",
     "text": [
      "Loss: 2.018 | Acc: 30.588% (3331/10890): : 1556it [00:22, 68.38it/s]\n",
      "Loss: 2.749 | Acc: 15.996% (1742/10890): : 1556it [00:11, 134.28it/s]"
     ]
    },
    {
     "name": "stdout",
     "output_type": "stream",
     "text": [
      "\n",
      "Epoch: 28\n"
     ]
    },
    {
     "name": "stderr",
     "output_type": "stream",
     "text": [
      "\n",
      "Loss: 2.018 | Acc: 30.652% (3338/10890): : 1556it [00:31, 49.43it/s]\n",
      "Loss: 2.754 | Acc: 14.784% (1610/10890): : 1556it [00:11, 132.75it/s]\n"
     ]
    },
    {
     "name": "stdout",
     "output_type": "stream",
     "text": [
      "\n",
      "Epoch: 29\n"
     ]
    },
    {
     "name": "stderr",
     "output_type": "stream",
     "text": [
      "Loss: 2.014 | Acc: 30.808% (3355/10890): : 1556it [00:35, 44.12it/s]\n",
      "Loss: 2.790 | Acc: 15.482% (1686/10890): : 1556it [00:12, 126.18it/s]\n"
     ]
    },
    {
     "name": "stdout",
     "output_type": "stream",
     "text": [
      "\n",
      "Epoch: 30\n"
     ]
    },
    {
     "name": "stderr",
     "output_type": "stream",
     "text": [
      "Loss: 2.015 | Acc: 30.634% (3336/10890): : 1556it [00:26, 59.33it/s]\n",
      "Loss: 2.788 | Acc: 13.783% (1501/10890): : 1556it [00:13, 116.85it/s]\n"
     ]
    },
    {
     "name": "stdout",
     "output_type": "stream",
     "text": [
      "\n",
      "Epoch: 31\n"
     ]
    },
    {
     "name": "stderr",
     "output_type": "stream",
     "text": [
      "Loss: 2.017 | Acc: 30.771% (3351/10890): : 1556it [00:24, 63.49it/s]\n",
      "Loss: 2.787 | Acc: 15.712% (1711/10890): : 1556it [00:10, 141.72it/s]"
     ]
    },
    {
     "name": "stdout",
     "output_type": "stream",
     "text": [
      "\n",
      "Epoch: 32\n"
     ]
    },
    {
     "name": "stderr",
     "output_type": "stream",
     "text": [
      "\n",
      "Loss: 2.008 | Acc: 31.359% (3415/10890): : 1556it [00:25, 60.80it/s]\n",
      "Loss: 2.778 | Acc: 15.702% (1710/10890): : 1556it [00:10, 151.43it/s]\n"
     ]
    },
    {
     "name": "stdout",
     "output_type": "stream",
     "text": [
      "\n",
      "Epoch: 33\n"
     ]
    },
    {
     "name": "stderr",
     "output_type": "stream",
     "text": [
      "Loss: 2.010 | Acc: 30.698% (3343/10890): : 1556it [00:24, 64.07it/s]\n",
      "Loss: 2.779 | Acc: 16.492% (1796/10890): : 1556it [00:10, 151.13it/s]\n"
     ]
    },
    {
     "name": "stdout",
     "output_type": "stream",
     "text": [
      "\n",
      "Epoch: 34\n"
     ]
    },
    {
     "name": "stderr",
     "output_type": "stream",
     "text": [
      "Loss: 2.005 | Acc: 31.028% (3379/10890): : 1556it [00:24, 62.50it/s]\n",
      "Loss: 2.828 | Acc: 14.252% (1552/10890): : 1556it [00:10, 154.97it/s]\n"
     ]
    },
    {
     "name": "stdout",
     "output_type": "stream",
     "text": [
      "\n",
      "Epoch: 35\n"
     ]
    },
    {
     "name": "stderr",
     "output_type": "stream",
     "text": [
      "Loss: 2.008 | Acc: 31.084% (3385/10890): : 1556it [00:23, 64.89it/s]\n",
      "Loss: 2.824 | Acc: 16.483% (1795/10890): : 1556it [00:10, 154.21it/s]\n"
     ]
    },
    {
     "name": "stdout",
     "output_type": "stream",
     "text": [
      "\n",
      "Epoch: 36\n"
     ]
    },
    {
     "name": "stderr",
     "output_type": "stream",
     "text": [
      "Loss: 2.004 | Acc: 31.423% (3422/10890): : 1556it [00:24, 64.64it/s]\n",
      "Loss: 2.823 | Acc: 14.389% (1567/10890): : 1556it [00:09, 155.76it/s]\n"
     ]
    },
    {
     "name": "stdout",
     "output_type": "stream",
     "text": [
      "\n",
      "Epoch: 37\n"
     ]
    },
    {
     "name": "stderr",
     "output_type": "stream",
     "text": [
      "Loss: 2.005 | Acc: 31.837% (3467/10890): : 1556it [00:24, 62.85it/s]\n",
      "Loss: 2.818 | Acc: 14.665% (1597/10890): : 1556it [00:09, 160.52it/s]"
     ]
    },
    {
     "name": "stdout",
     "output_type": "stream",
     "text": [
      "\n",
      "Epoch: 38\n"
     ]
    },
    {
     "name": "stderr",
     "output_type": "stream",
     "text": [
      "\n",
      "Loss: 1.999 | Acc: 31.772% (3460/10890): : 1556it [00:23, 66.78it/s]\n",
      "Loss: 2.818 | Acc: 15.601% (1699/10890): : 1556it [00:09, 159.79it/s]\n"
     ]
    },
    {
     "name": "stdout",
     "output_type": "stream",
     "text": [
      "\n",
      "Epoch: 39\n"
     ]
    },
    {
     "name": "stderr",
     "output_type": "stream",
     "text": [
      "Loss: 1.999 | Acc: 31.093% (3386/10890): : 1556it [00:23, 67.56it/s]\n",
      "Loss: 2.849 | Acc: 13.471% (1467/10890): : 1556it [00:09, 162.43it/s]\n"
     ]
    },
    {
     "name": "stdout",
     "output_type": "stream",
     "text": [
      "\n",
      "Epoch: 40\n"
     ]
    },
    {
     "name": "stderr",
     "output_type": "stream",
     "text": [
      "Loss: 1.998 | Acc: 31.341% (3413/10890): : 1556it [00:23, 66.74it/s]\n",
      "Loss: 2.835 | Acc: 14.628% (1593/10890): : 1556it [00:09, 160.64it/s]\n"
     ]
    }
   ],
   "source": [
    "log_file = open('log_spd.txt', 'a')\n",
    "\n",
    "start_epoch = 41\n",
    "for epoch in range(start_epoch, start_epoch+30):\n",
    "    train_loss, train_acc = train(epoch)\n",
    "    test_loss, test_acc = test(epoch)\n",
    "\n",
    "    log_file.write('%d,%f,%f,%f,%f\\n' % (epoch, train_loss, train_acc, test_loss, test_acc))\n",
    "    log_file.flush()\n",
    "\n",
    "log_file.close()"
   ]
  },
  {
   "cell_type": "code",
   "execution_count": 128,
   "id": "cc4d99d2",
   "metadata": {},
   "outputs": [],
   "source": [
    "activation = {}\n",
    "z=[]\n",
    "o=[]\n",
    "c=[]\n",
    "def get_activation(name):\n",
    "    def hook(model, input, output):\n",
    "        activation[name] = output.detach()\n",
    "    return hook\n",
    "model.tangent.register_forward_hook(get_activation('o'))\n",
    "model.rect3.register_forward_hook(get_activation('r3'))\n",
    "for batch_idx, sample_batched in enumerate(dataloader_val):\n",
    "    inputs = sample_batched['data']\n",
    "    targets = sample_batched['label'].squeeze()\n",
    "\n",
    "    if use_cuda:\n",
    "        inputs = inputs.cuda()\n",
    "        targets = targets.cuda()\n",
    "\n",
    "    outputs = model(inputs)\n",
    "    o += [activation['o']]\n",
    "    z += [activation['r3']]\n",
    "    c += [targets]"
   ]
  },
  {
   "cell_type": "code",
   "execution_count": 129,
   "id": "610e1f49",
   "metadata": {},
   "outputs": [],
   "source": [
    "o = torch.cat(o)\n",
    "z = torch.cat(z)\n",
    "c = torch.cat(c)"
   ]
  },
  {
   "cell_type": "code",
   "execution_count": 156,
   "id": "a7cbed92",
   "metadata": {},
   "outputs": [],
   "source": [
    "zx = []\n",
    "for A in z:\n",
    "    indices = np.triu_indices_from(A)\n",
    "    A = np.asarray(A[indices])\n",
    "    zx.append(A)\n",
    "z = np.stack(zx)"
   ]
  },
  {
   "cell_type": "code",
   "execution_count": 157,
   "id": "6ba84d54",
   "metadata": {},
   "outputs": [
    {
     "data": {
      "image/png": "[encoded data removed]",
      "text/plain": [
       "<Figure size 576x288 with 2 Axes>"
      ]
     },
     "metadata": {},
     "output_type": "display_data"
    }
   ],
   "source": [
    "import seaborn as sns\n",
    "import matplotlib.pyplot as plt\n",
    "import pandas as pd\n",
    "from mpl_toolkits.mplot3d import Axes3D\n",
    "sns.set(style = \"darkgrid\")\n",
    "\n",
    "fig = plt.figure(figsize=plt.figaspect(0.5))\n",
    "\n",
    "def embedding_viz(xyz, c, idx, tittle='z', N=50, perm=False):\n",
    "    ax = fig.add_subplot(1, 2, idx, projection='3d')\n",
    "    ax.title.set_text(tittle)\n",
    "    idx = np.arange(len(c))\n",
    "    if perm:\n",
    "        idx = np.random.permutation(idx)\n",
    "    p = idx[:N]\n",
    "    \n",
    "    xs = xyz[p, 0]\n",
    "    ys = xyz[p, 1]\n",
    "    zs = xyz[p, 2]\n",
    "    color = c[p]\n",
    "\n",
    "    ax.set_xlabel(\"x\")\n",
    "    ax.set_ylabel(\"y\")\n",
    "    ax.set_zlabel(\"z\")\n",
    "\n",
    "    ax.scatter(xs, ys, zs, c=color, cmap='viridis')\n",
    "\n",
    "    for i, p in enumerate(zip(xs, ys, zs)):\n",
    "        ax.text(p[0], p[1], p[2], str(int(c[i])), color=\"red\", fontsize=3)\n",
    "\n",
    "embedding_viz(z, c, 1, 'Z')\n",
    "embedding_viz(o, c, 2, 'O')\n",
    "plt.show()"
   ]
  },
  {
   "cell_type": "code",
   "execution_count": 159,
   "id": "b70c60d0",
   "metadata": {},
   "outputs": [
    {
     "data": {
      "text/plain": [
       "-391917.6"
      ]
     },
     "execution_count": 159,
     "metadata": {},
     "output_type": "execute_result"
    }
   ],
   "source": [
    "np.sum(o.numpy()-z)"
   ]
  },
  {
   "cell_type": "code",
   "execution_count": null,
   "id": "12519ae8",
   "metadata": {},
   "outputs": [],
   "source": []
  }
 ],
 "metadata": {
  "kernelspec": {
   "display_name": "Python 3",
   "language": "python",
   "name": "python3"
  },
  "language_info": {
   "codemirror_mode": {
    "name": "ipython",
    "version": 3
   },
   "file_extension": ".py",
   "mimetype": "text/x-python",
   "name": "python",
   "nbconvert_exporter": "python",
   "pygments_lexer": "ipython3",
   "version": "3.7.9"
  }
 },
 "nbformat": 4,
 "nbformat_minor": 5
}
